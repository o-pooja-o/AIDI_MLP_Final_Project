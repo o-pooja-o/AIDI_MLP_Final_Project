{
  "nbformat": 4,
  "nbformat_minor": 0,
  "metadata": {
    "colab": {
      "provenance": []
    },
    "kernelspec": {
      "name": "python3",
      "display_name": "Python 3"
    },
    "language_info": {
      "name": "python"
    }
  },
  "cells": [
    {
      "cell_type": "markdown",
      "source": [
        "## Code for binary class fusion model-1 (ANN+RF) using weighted score fusion"
      ],
      "metadata": {
        "id": "j3GdEVJMOCtZ"
      }
    },
    {
      "cell_type": "code",
      "source": [
        "%pip install tensorflow\n"
      ],
      "metadata": {
        "id": "ewudcE-cZUuV",
        "colab": {
          "base_uri": "https://localhost:8080/"
        },
        "outputId": "853c675d-d8a5-460c-fd75-3ded9f5d41b8"
      },
      "execution_count": 4,
      "outputs": [
        {
          "output_type": "stream",
          "name": "stdout",
          "text": [
            "Requirement already satisfied: tensorflow in /usr/local/lib/python3.10/dist-packages (2.15.0)\n",
            "Requirement already satisfied: absl-py>=1.0.0 in /usr/local/lib/python3.10/dist-packages (from tensorflow) (1.4.0)\n",
            "Requirement already satisfied: astunparse>=1.6.0 in /usr/local/lib/python3.10/dist-packages (from tensorflow) (1.6.3)\n",
            "Requirement already satisfied: flatbuffers>=23.5.26 in /usr/local/lib/python3.10/dist-packages (from tensorflow) (23.5.26)\n",
            "Requirement already satisfied: gast!=0.5.0,!=0.5.1,!=0.5.2,>=0.2.1 in /usr/local/lib/python3.10/dist-packages (from tensorflow) (0.5.4)\n",
            "Requirement already satisfied: google-pasta>=0.1.1 in /usr/local/lib/python3.10/dist-packages (from tensorflow) (0.2.0)\n",
            "Requirement already satisfied: h5py>=2.9.0 in /usr/local/lib/python3.10/dist-packages (from tensorflow) (3.9.0)\n",
            "Requirement already satisfied: libclang>=13.0.0 in /usr/local/lib/python3.10/dist-packages (from tensorflow) (16.0.6)\n",
            "Requirement already satisfied: ml-dtypes~=0.2.0 in /usr/local/lib/python3.10/dist-packages (from tensorflow) (0.2.0)\n",
            "Requirement already satisfied: numpy<2.0.0,>=1.23.5 in /usr/local/lib/python3.10/dist-packages (from tensorflow) (1.23.5)\n",
            "Requirement already satisfied: opt-einsum>=2.3.2 in /usr/local/lib/python3.10/dist-packages (from tensorflow) (3.3.0)\n",
            "Requirement already satisfied: packaging in /usr/local/lib/python3.10/dist-packages (from tensorflow) (23.2)\n",
            "Requirement already satisfied: protobuf!=4.21.0,!=4.21.1,!=4.21.2,!=4.21.3,!=4.21.4,!=4.21.5,<5.0.0dev,>=3.20.3 in /usr/local/lib/python3.10/dist-packages (from tensorflow) (3.20.3)\n",
            "Requirement already satisfied: setuptools in /usr/local/lib/python3.10/dist-packages (from tensorflow) (67.7.2)\n",
            "Requirement already satisfied: six>=1.12.0 in /usr/local/lib/python3.10/dist-packages (from tensorflow) (1.16.0)\n",
            "Requirement already satisfied: termcolor>=1.1.0 in /usr/local/lib/python3.10/dist-packages (from tensorflow) (2.4.0)\n",
            "Requirement already satisfied: typing-extensions>=3.6.6 in /usr/local/lib/python3.10/dist-packages (from tensorflow) (4.5.0)\n",
            "Requirement already satisfied: wrapt<1.15,>=1.11.0 in /usr/local/lib/python3.10/dist-packages (from tensorflow) (1.14.1)\n",
            "Requirement already satisfied: tensorflow-io-gcs-filesystem>=0.23.1 in /usr/local/lib/python3.10/dist-packages (from tensorflow) (0.34.0)\n",
            "Requirement already satisfied: grpcio<2.0,>=1.24.3 in /usr/local/lib/python3.10/dist-packages (from tensorflow) (1.60.0)\n",
            "Requirement already satisfied: tensorboard<2.16,>=2.15 in /usr/local/lib/python3.10/dist-packages (from tensorflow) (2.15.1)\n",
            "Requirement already satisfied: tensorflow-estimator<2.16,>=2.15.0 in /usr/local/lib/python3.10/dist-packages (from tensorflow) (2.15.0)\n",
            "Requirement already satisfied: keras<2.16,>=2.15.0 in /usr/local/lib/python3.10/dist-packages (from tensorflow) (2.15.0)\n",
            "Requirement already satisfied: wheel<1.0,>=0.23.0 in /usr/local/lib/python3.10/dist-packages (from astunparse>=1.6.0->tensorflow) (0.42.0)\n",
            "Requirement already satisfied: google-auth<3,>=1.6.3 in /usr/local/lib/python3.10/dist-packages (from tensorboard<2.16,>=2.15->tensorflow) (2.17.3)\n",
            "Requirement already satisfied: google-auth-oauthlib<2,>=0.5 in /usr/local/lib/python3.10/dist-packages (from tensorboard<2.16,>=2.15->tensorflow) (1.2.0)\n",
            "Requirement already satisfied: markdown>=2.6.8 in /usr/local/lib/python3.10/dist-packages (from tensorboard<2.16,>=2.15->tensorflow) (3.5.1)\n",
            "Requirement already satisfied: requests<3,>=2.21.0 in /usr/local/lib/python3.10/dist-packages (from tensorboard<2.16,>=2.15->tensorflow) (2.31.0)\n",
            "Requirement already satisfied: tensorboard-data-server<0.8.0,>=0.7.0 in /usr/local/lib/python3.10/dist-packages (from tensorboard<2.16,>=2.15->tensorflow) (0.7.2)\n",
            "Requirement already satisfied: werkzeug>=1.0.1 in /usr/local/lib/python3.10/dist-packages (from tensorboard<2.16,>=2.15->tensorflow) (3.0.1)\n",
            "Requirement already satisfied: cachetools<6.0,>=2.0.0 in /usr/local/lib/python3.10/dist-packages (from google-auth<3,>=1.6.3->tensorboard<2.16,>=2.15->tensorflow) (5.3.2)\n",
            "Requirement already satisfied: pyasn1-modules>=0.2.1 in /usr/local/lib/python3.10/dist-packages (from google-auth<3,>=1.6.3->tensorboard<2.16,>=2.15->tensorflow) (0.3.0)\n",
            "Requirement already satisfied: rsa<5,>=3.1.4 in /usr/local/lib/python3.10/dist-packages (from google-auth<3,>=1.6.3->tensorboard<2.16,>=2.15->tensorflow) (4.9)\n",
            "Requirement already satisfied: requests-oauthlib>=0.7.0 in /usr/local/lib/python3.10/dist-packages (from google-auth-oauthlib<2,>=0.5->tensorboard<2.16,>=2.15->tensorflow) (1.3.1)\n",
            "Requirement already satisfied: charset-normalizer<4,>=2 in /usr/local/lib/python3.10/dist-packages (from requests<3,>=2.21.0->tensorboard<2.16,>=2.15->tensorflow) (3.3.2)\n",
            "Requirement already satisfied: idna<4,>=2.5 in /usr/local/lib/python3.10/dist-packages (from requests<3,>=2.21.0->tensorboard<2.16,>=2.15->tensorflow) (3.6)\n",
            "Requirement already satisfied: urllib3<3,>=1.21.1 in /usr/local/lib/python3.10/dist-packages (from requests<3,>=2.21.0->tensorboard<2.16,>=2.15->tensorflow) (2.0.7)\n",
            "Requirement already satisfied: certifi>=2017.4.17 in /usr/local/lib/python3.10/dist-packages (from requests<3,>=2.21.0->tensorboard<2.16,>=2.15->tensorflow) (2023.11.17)\n",
            "Requirement already satisfied: MarkupSafe>=2.1.1 in /usr/local/lib/python3.10/dist-packages (from werkzeug>=1.0.1->tensorboard<2.16,>=2.15->tensorflow) (2.1.3)\n",
            "Requirement already satisfied: pyasn1<0.6.0,>=0.4.6 in /usr/local/lib/python3.10/dist-packages (from pyasn1-modules>=0.2.1->google-auth<3,>=1.6.3->tensorboard<2.16,>=2.15->tensorflow) (0.5.1)\n",
            "Requirement already satisfied: oauthlib>=3.0.0 in /usr/local/lib/python3.10/dist-packages (from requests-oauthlib>=0.7.0->google-auth-oauthlib<2,>=0.5->tensorboard<2.16,>=2.15->tensorflow) (3.2.2)\n"
          ]
        }
      ]
    },
    {
      "cell_type": "code",
      "execution_count": 5,
      "metadata": {
        "id": "cjQieBDonVOq"
      },
      "outputs": [],
      "source": [
        "from sklearn.model_selection import StratifiedKFold\n",
        "from keras.models import Sequential\n",
        "from keras.layers import Dense ,BatchNormalization\n",
        "from sklearn.model_selection import train_test_split\n",
        "from sklearn.model_selection import train_test_split\n",
        "from sklearn.preprocessing import MinMaxScaler,StandardScaler\n",
        "import tensorflow as tf\n",
        "from matplotlib import pyplot as plt\n",
        "import numpy\n",
        "import pandas as pd\n",
        "import numpy as np\n",
        "from sklearn.metrics import classification_report\n",
        "import sklearn.metrics as metrics"
      ]
    },
    {
      "cell_type": "code",
      "source": [
        "dataset = pd.read_csv(\"/content/sample_data/binary classification.csv\", delimiter=\",\")\n",
        "dataset_array = dataset.to_numpy()\n",
        "x = dataset_array[:, 0:13]\n",
        "y = dataset_array[:, 13]"
      ],
      "metadata": {
        "id": "qSKtcj1poFoe"
      },
      "execution_count": 6,
      "outputs": []
    },
    {
      "cell_type": "code",
      "source": [
        "#for 80:20 ratio\n",
        "#X_train, X_test, y_train, y_test = train_test_split(x, y, test_size=0.2, shuffle=True)\n",
        "\n",
        "#for 70:30 ratio\n",
        "X_train, X_test, y_train, y_test = train_test_split(x, y, test_size=0.3, shuffle=True)\n"
      ],
      "metadata": {
        "id": "4Wd342F5n66l"
      },
      "execution_count": 7,
      "outputs": []
    },
    {
      "cell_type": "code",
      "source": [
        "\n",
        "#StandardScaler for normalization for some algortihms\n",
        "sc = StandardScaler()\n",
        "\n",
        "#min-max scaler for normalization for some algortihms\n",
        "scaler = MinMaxScaler(feature_range=(0,1))\n",
        "\n",
        "\n"
      ],
      "metadata": {
        "id": "ZSwIF7pmxHRY"
      },
      "execution_count": 8,
      "outputs": []
    },
    {
      "cell_type": "markdown",
      "source": [
        "Information based algorithms (Decision Trees, Random Forests) and probability based algorithms (Naive Bayes, Bayesian Networks) don't require normalization either."
      ],
      "metadata": {
        "id": "dP0XXtefy_TW"
      }
    },
    {
      "cell_type": "code",
      "source": [
        "#code for RF\n",
        "\n",
        "from sklearn.ensemble import RandomForestClassifier\n",
        "model3 = RandomForestClassifier(n_estimators=100)\n",
        "\n",
        "model3.fit(X_train,y_train)\n",
        "rounded_predictions3 = model3.predict(X_test)\n",
        "predictions3 =model3.predict_proba(X_test)\n",
        "y_pred3 = rounded_predictions3\n",
        "\n",
        "\n",
        "import sklearn.metrics as metrics\n",
        "scores3=metrics.accuracy_score(y_test,y_pred3)\n",
        "print(\"RF\",scores3)\n",
        "\n",
        "print(metrics.confusion_matrix(y_test,y_pred3))\n",
        "print(metrics.classification_report(y_test,y_pred3))\n",
        "\n",
        "\n",
        "fpr3, tpr3, threshold = metrics.roc_curve(y_test, y_pred3)\n",
        "roc_auc3 = metrics.auc(fpr3, tpr3)\n",
        "print(\"roc_auc_RF\",roc_auc3)\n",
        "\n",
        "\n",
        "#code for ANN\n",
        "\n",
        "from keras import regularizers\n",
        "from keras.regularizers import l2\n",
        "\n",
        "\n",
        "\n",
        "scaled_X_train_ann=scaler.fit_transform(X_train)\n",
        "scaled_X_test_ann=scaler.transform(X_test)\n",
        "\n",
        "\n",
        "\n",
        "model2 = Sequential()\n",
        "model2.add(Dense(8, input_dim=13,activation='relu',kernel_regularizer=l2(0.01) ))\n",
        "model2.add(Dense(1, activation='sigmoid'))\n",
        "sgd = tf.keras.optimizers.legacy.SGD(learning_rate=0.01, decay=1e-6, momentum=0.9, nesterov=True)\n",
        "model2.compile(loss='binary_crossentropy', optimizer='sgd',metrics=['accuracy'])\n",
        "\n",
        "history=model2.fit(scaled_X_train_ann, y_train,validation_split=0.1, batch_size=10,epochs=15,shuffle=True,verbose=2)\n",
        "\n",
        "\n",
        "predictions2 = model2.predict(scaled_X_test_ann,batch_size=5,verbose=0)\n",
        "#rounded_predictions2 = model2.predict_classes(scaled_X_test_ann,batch_size=5,verbose=0)\n",
        "rounded_predictions2=np.round(predictions2).astype(int)\n",
        "y_pred2 = rounded_predictions2\n",
        "\n",
        "import sklearn.metrics as metrics\n",
        "score2=metrics.accuracy_score(y_test,y_pred2)\n",
        "print(\"ANN\",score2)\n",
        "\n",
        "print(metrics.confusion_matrix(y_test,y_pred2))\n",
        "print(metrics.classification_report(y_test,y_pred2))\n",
        "\n",
        "fpr2, tpr2, threshold = metrics.roc_curve(y_test,y_pred2)\n",
        "roc_auc2 = metrics.auc(fpr2, tpr2)\n",
        "print(\"roc_auc_ann\",roc_auc2)\n",
        "\n"
      ],
      "metadata": {
        "colab": {
          "base_uri": "https://localhost:8080/"
        },
        "id": "aGWy_eETxRpp",
        "outputId": "305ba830-7ae0-4fef-bc73-1f70601125d3"
      },
      "execution_count": 9,
      "outputs": [
        {
          "output_type": "stream",
          "name": "stdout",
          "text": [
            "RF 0.8131868131868132\n",
            "[[42 11]\n",
            " [ 6 32]]\n",
            "              precision    recall  f1-score   support\n",
            "\n",
            "         0.0       0.88      0.79      0.83        53\n",
            "         1.0       0.74      0.84      0.79        38\n",
            "\n",
            "    accuracy                           0.81        91\n",
            "   macro avg       0.81      0.82      0.81        91\n",
            "weighted avg       0.82      0.81      0.81        91\n",
            "\n",
            "roc_auc_RF 0.817279046673287\n",
            "Epoch 1/15\n",
            "19/19 - 2s - loss: 0.8570 - accuracy: 0.4737 - val_loss: 0.7287 - val_accuracy: 0.6364 - 2s/epoch - 110ms/step\n",
            "Epoch 2/15\n",
            "19/19 - 0s - loss: 0.8382 - accuracy: 0.4421 - val_loss: 0.7299 - val_accuracy: 0.7273 - 106ms/epoch - 6ms/step\n",
            "Epoch 3/15\n",
            "19/19 - 0s - loss: 0.8237 - accuracy: 0.4579 - val_loss: 0.7307 - val_accuracy: 0.7273 - 109ms/epoch - 6ms/step\n",
            "Epoch 4/15\n",
            "19/19 - 0s - loss: 0.8117 - accuracy: 0.4842 - val_loss: 0.7299 - val_accuracy: 0.6818 - 247ms/epoch - 13ms/step\n",
            "Epoch 5/15\n",
            "19/19 - 0s - loss: 0.8016 - accuracy: 0.5316 - val_loss: 0.7259 - val_accuracy: 0.6818 - 142ms/epoch - 7ms/step\n",
            "Epoch 6/15\n",
            "19/19 - 0s - loss: 0.7923 - accuracy: 0.5526 - val_loss: 0.7207 - val_accuracy: 0.7727 - 255ms/epoch - 13ms/step\n",
            "Epoch 7/15\n",
            "19/19 - 0s - loss: 0.7846 - accuracy: 0.6053 - val_loss: 0.7160 - val_accuracy: 0.7727 - 120ms/epoch - 6ms/step\n",
            "Epoch 8/15\n",
            "19/19 - 0s - loss: 0.7771 - accuracy: 0.6053 - val_loss: 0.7108 - val_accuracy: 0.7727 - 154ms/epoch - 8ms/step\n",
            "Epoch 9/15\n",
            "19/19 - 0s - loss: 0.7704 - accuracy: 0.6158 - val_loss: 0.7059 - val_accuracy: 0.7727 - 143ms/epoch - 8ms/step\n",
            "Epoch 10/15\n",
            "19/19 - 0s - loss: 0.7638 - accuracy: 0.6684 - val_loss: 0.7001 - val_accuracy: 0.7727 - 141ms/epoch - 7ms/step\n",
            "Epoch 11/15\n",
            "19/19 - 0s - loss: 0.7579 - accuracy: 0.6684 - val_loss: 0.6953 - val_accuracy: 0.7727 - 138ms/epoch - 7ms/step\n",
            "Epoch 12/15\n",
            "19/19 - 0s - loss: 0.7521 - accuracy: 0.6842 - val_loss: 0.6902 - val_accuracy: 0.8182 - 165ms/epoch - 9ms/step\n",
            "Epoch 13/15\n",
            "19/19 - 0s - loss: 0.7464 - accuracy: 0.6947 - val_loss: 0.6852 - val_accuracy: 0.8182 - 151ms/epoch - 8ms/step\n",
            "Epoch 14/15\n",
            "19/19 - 0s - loss: 0.7414 - accuracy: 0.6947 - val_loss: 0.6811 - val_accuracy: 0.8636 - 196ms/epoch - 10ms/step\n",
            "Epoch 15/15\n",
            "19/19 - 0s - loss: 0.7366 - accuracy: 0.6947 - val_loss: 0.6769 - val_accuracy: 0.8636 - 148ms/epoch - 8ms/step\n",
            "ANN 0.7912087912087912\n",
            "[[49  4]\n",
            " [15 23]]\n",
            "              precision    recall  f1-score   support\n",
            "\n",
            "         0.0       0.77      0.92      0.84        53\n",
            "         1.0       0.85      0.61      0.71        38\n",
            "\n",
            "    accuracy                           0.79        91\n",
            "   macro avg       0.81      0.76      0.77        91\n",
            "weighted avg       0.80      0.79      0.78        91\n",
            "\n",
            "roc_auc_ann 0.7648957298907646\n"
          ]
        }
      ]
    },
    {
      "cell_type": "code",
      "source": [
        "#weighted fusion\n",
        "#same procedure for every model(1,2 and 3). for every model we need to take the prediction\n",
        "# values and then the values will be merged according to the procedure given in below.\n",
        "\n",
        "#selecting the best value for p and q(p & q represents the weights w1 & w2)\n",
        "p=1\n",
        "#q=1-p\n",
        "for i in range (19):\n",
        "    p=p-.05\n",
        "    q=1-p\n",
        "\n",
        "\n",
        "    mixed=predictions3[:,1]*p+predictions2[:,0]*q\n",
        "    rounded_mixed=mixed\n",
        "    for i in range(len(y_test)):\n",
        "        if mixed[i]>.5:\n",
        "            rounded_mixed[i]=1\n",
        "        else:\n",
        "            rounded_mixed[i]=0\n",
        "\n",
        "    score=metrics.accuracy_score(rounded_mixed,y_test)\n",
        "    print(\"  mixed  p  q\",\"%.4f\" %score, \"%.2f\" %p,\"%.2f\" %q)\n",
        "\n",
        "\n",
        "#after selecting the value of p and q which gives the highest accuracy. This value differs for different algorithms.\n",
        "\n",
        "p=.05\n",
        "q=1-p\n",
        "\n",
        "mixed=predictions3[:,1]*p+predictions2[:,0]*q\n",
        "rounded_mixed=mixed\n",
        "for i in range(len(y_test)):\n",
        "    if mixed[i]>=.5:\n",
        "        rounded_mixed[i]=1\n",
        "    else:\n",
        "         rounded_mixed[i]=0\n",
        "\n",
        "score=metrics.accuracy_score(rounded_mixed,y_test)\n",
        "print(\"mixed\",score)\n",
        "\n",
        "print(metrics.confusion_matrix(y_test,rounded_mixed))\n",
        "print(metrics.classification_report(y_test,rounded_mixed))\n",
        "\n",
        "fpr, tpr, threshold = metrics.roc_curve(rounded_mixed,y_test)\n",
        "roc_auc = metrics.auc(fpr, tpr)\n",
        "print(\"roc_auc_tot\",roc_auc)\n",
        "\n",
        "\n"
      ],
      "metadata": {
        "colab": {
          "base_uri": "https://localhost:8080/"
        },
        "id": "AO_BNLraxRyW",
        "outputId": "92432ca5-d4d7-44c8-840a-e8ca6c8de2be"
      },
      "execution_count": 10,
      "outputs": [
        {
          "output_type": "stream",
          "name": "stdout",
          "text": [
            "  mixed  p  q 0.8022 0.95 0.05\n",
            "  mixed  p  q 0.8132 0.90 0.10\n",
            "  mixed  p  q 0.8352 0.85 0.15\n",
            "  mixed  p  q 0.8242 0.80 0.20\n",
            "  mixed  p  q 0.8132 0.75 0.25\n",
            "  mixed  p  q 0.8022 0.70 0.30\n",
            "  mixed  p  q 0.8132 0.65 0.35\n",
            "  mixed  p  q 0.8132 0.60 0.40\n",
            "  mixed  p  q 0.8132 0.55 0.45\n",
            "  mixed  p  q 0.8022 0.50 0.50\n",
            "  mixed  p  q 0.8242 0.45 0.55\n",
            "  mixed  p  q 0.8571 0.40 0.60\n",
            "  mixed  p  q 0.8571 0.35 0.65\n",
            "  mixed  p  q 0.8462 0.30 0.70\n",
            "  mixed  p  q 0.8462 0.25 0.75\n",
            "  mixed  p  q 0.8352 0.20 0.80\n",
            "  mixed  p  q 0.8242 0.15 0.85\n",
            "  mixed  p  q 0.8132 0.10 0.90\n",
            "  mixed  p  q 0.8132 0.05 0.95\n",
            "mixed 0.8131868131868132\n",
            "[[49  4]\n",
            " [13 25]]\n",
            "              precision    recall  f1-score   support\n",
            "\n",
            "         0.0       0.79      0.92      0.85        53\n",
            "         1.0       0.86      0.66      0.75        38\n",
            "\n",
            "    accuracy                           0.81        91\n",
            "   macro avg       0.83      0.79      0.80        91\n",
            "weighted avg       0.82      0.81      0.81        91\n",
            "\n",
            "roc_auc_tot 0.8261957730812013\n"
          ]
        }
      ]
    },
    {
      "cell_type": "code",
      "source": [
        "import matplotlib.pyplot as plt\n",
        "plt.title('Receiver Operating Characteristic')\n",
        "plt.plot(fpr3, tpr3, 'b', label = 'algorithm1= = %0.2f' % roc_auc3)\n",
        "plt.plot(fpr2, tpr2, 'r', label = 'algorithm2= %0.2f' % roc_auc2)\n",
        "plt.plot(fpr, tpr, 'g', label = 'Fusion= %0.2f' % roc_auc)\n",
        "plt.legend(loc = 'lower right')\n",
        "plt.plot([0, 1], [0, 1],'r--')\n",
        "plt.xlim([0, 1])\n",
        "plt.ylim([0, 1])\n",
        "plt.ylabel('True Positive Rate')\n",
        "plt.xlabel('False Positive Rate')\n",
        "plt.show()\n",
        "\n"
      ],
      "metadata": {
        "id": "AcmYUXYcLznu",
        "colab": {
          "base_uri": "https://localhost:8080/",
          "height": 472
        },
        "outputId": "2387f47f-003f-4cfe-89ec-0537730c3ac5"
      },
      "execution_count": 11,
      "outputs": [
        {
          "output_type": "display_data",
          "data": {
            "text/plain": [
              "<Figure size 640x480 with 1 Axes>"
            ],
            "image/png": "[encoded data removed]"
          },
          "metadata": {}
        }
      ]
    },
    {
      "cell_type": "code",
      "source": [],
      "metadata": {
        "id": "WHkzfyVqayyu"
      },
      "execution_count": 11,
      "outputs": []
    }
  ]
}